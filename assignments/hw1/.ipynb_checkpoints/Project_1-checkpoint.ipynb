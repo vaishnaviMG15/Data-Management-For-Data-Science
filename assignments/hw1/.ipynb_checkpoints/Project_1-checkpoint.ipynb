{
 "cells": [
  {
   "cell_type": "markdown",
   "id": "abb63eec-035f-476e-9456-ba76f3d44121",
   "metadata": {},
   "source": [
    "**Task 1: Reading Data**"
   ]
  },
  {
   "cell_type": "code",
   "execution_count": 5,
   "id": "409dd67b-17e3-4a55-a140-68de13aa9260",
   "metadata": {},
   "outputs": [],
   "source": [
    "from collections import defaultdict"
   ]
  },
  {
   "cell_type": "code",
   "execution_count": 66,
   "id": "303851b6-b319-42d5-97b0-239aa556a778",
   "metadata": {},
   "outputs": [],
   "source": [
    "#input: ratings file\n",
    "#output: dictionary; key = movie; value = corresponding list of ratings\n",
    "def read_ratings_data(f):\n",
    "    file = open(f)\n",
    "    d = defaultdict(list)\n",
    "    for line in file:\n",
    "        movie, rating, user_id = line.split('|')\n",
    "        d[movie.strip()].append(float(rating.strip()))\n",
    "    file.close()\n",
    "    return dict(d)"
   ]
  },
  {
   "cell_type": "code",
   "execution_count": 67,
   "id": "4d1792c2-9bf2-4752-b1da-89713ed84777",
   "metadata": {},
   "outputs": [
    {
     "name": "stdout",
     "output_type": "stream",
     "text": [
      "{'Toy Story (1995)': [4.0, 4.0, 4.5, 2.5, 4.5, 3.5], 'Jumanji (1995)': [4.0, 4.0, 3.0, 3.0, 3.0, 3.5], 'Tom and Huck (1995)': [3.0, 1.0, 5.0, 3.0, 2.0, 3.0], 'Grumpier Old Men (1995)': [4.0, 5.0, 3.0, 3.0, 4.0, 5.0], 'Waiting to Exhale (1995)': [3.0, 3.0, 3.0, 3.0, 1.0, 2.0], 'Father of the Bride Part II (1995)': [5.0, 3.0, 5.0, 3.0, 4.0, 4.0], 'Heat (1995)': [4.0, 4.0, 5.0, 4.0, 4.0, 4.5], 'Sudden Death (1995)': [4.0, 3.0, 3.0, 2.0, 3.0, 5.0], 'GoldenEye (1995)': [3.0, 2.0, 3.0, 2.0, 5.0, 3.0]}\n"
     ]
    }
   ],
   "source": [
    "movie_to_ratings = read_ratings_data('movieRatingSample.txt')\n",
    "print(movie_to_ratings)"
   ]
  },
  {
   "cell_type": "code",
   "execution_count": 8,
   "id": "273b6245-297f-4819-9321-997aa8b6a11d",
   "metadata": {},
   "outputs": [],
   "source": [
    "#input: movies file\n",
    "#output: dictionary; key = movie; value = genre\n",
    "def read_movie_genre(f):\n",
    "    file = open(f)\n",
    "    d = {}\n",
    "    for line in file:\n",
    "        genre, movie_id, movie = line.split('|')\n",
    "        d[movie.strip()] = genre.strip()\n",
    "       \n",
    "    file.close()\n",
    "    return d\n",
    "    "
   ]
  },
  {
   "cell_type": "code",
   "execution_count": 11,
   "id": "c3463bfe-acea-43d5-b40e-42b0799190b3",
   "metadata": {},
   "outputs": [
    {
     "name": "stdout",
     "output_type": "stream",
     "text": [
      "{'Toy Story (1995)': 'Adventure', 'Jumanji (1995)': 'Adventure', 'Tom and Huck (1995)': 'Adventure', 'Grumpier Old Men (1995)': 'Comedy', 'Waiting to Exhale (1995)': 'Comedy', 'Father of the Bride Part II (1995)': 'Comedy', 'Heat (1995)': 'Action', 'Sudden Death (1995)': 'Action', 'GoldenEye (1995)': 'Action'}\n"
     ]
    }
   ],
   "source": [
    "movie_to_genre = read_movie_genre('genreMovieSample.txt')\n",
    "print(movie_to_genre)"
   ]
  },
  {
   "cell_type": "markdown",
   "id": "d5ce200b-8b40-47bd-928a-5c6680d542cd",
   "metadata": {},
   "source": [
    "**Task 2: Processing Data**"
   ]
  },
  {
   "cell_type": "code",
   "execution_count": 68,
   "id": "b0af841b-c895-461a-a2d1-398f53610e7e",
   "metadata": {},
   "outputs": [],
   "source": [
    "#input: movie to genre dictionary\n",
    "#output: dictionary; key = genre; value = list of movies in this genre\n",
    "def create_genre_dict(movie_to_genre):\n",
    "    d = defaultdict(list)\n",
    "    for key, value in movie_to_genre.items():\n",
    "        d[value].append(key)\n",
    "    return dict(d)"
   ]
  },
  {
   "cell_type": "code",
   "execution_count": 69,
   "id": "b6d48f5a-ea72-4203-a879-81cecb5075d5",
   "metadata": {},
   "outputs": [
    {
     "name": "stdout",
     "output_type": "stream",
     "text": [
      "{'Adventure': ['Toy Story (1995)', 'Jumanji (1995)', 'Tom and Huck (1995)'], 'Comedy': ['Grumpier Old Men (1995)', 'Waiting to Exhale (1995)', 'Father of the Bride Part II (1995)'], 'Action': ['Heat (1995)', 'Sudden Death (1995)', 'GoldenEye (1995)']}\n"
     ]
    }
   ],
   "source": [
    "genre_to_movies = create_genre_dict(movie_to_genre)\n",
    "print(genre_to_movies)"
   ]
  },
  {
   "cell_type": "code",
   "execution_count": 70,
   "id": "aa8c6772-e73f-4452-b9ea-3fd210048325",
   "metadata": {},
   "outputs": [],
   "source": [
    "#input: movie to ratings dictionary\n",
    "#output: dictionary; key = movie; value = average rating\n",
    "\n",
    "def calculate_average_rating(movie_to_ratings):\n",
    "    d = {}\n",
    "    for key, value in movie_to_ratings.items():\n",
    "        avg = sum(value)/len(value)\n",
    "        avg_s = f'{avg:.4f}'\n",
    "        avg_f = float(avg_s)\n",
    "        d[key] = avg_f\n",
    "    return d\n"
   ]
  },
  {
   "cell_type": "code",
   "execution_count": 71,
   "id": "01daff2a-e8ab-49f6-88d5-89bcd0642902",
   "metadata": {},
   "outputs": [
    {
     "name": "stdout",
     "output_type": "stream",
     "text": [
      "{'Toy Story (1995)': 3.8333, 'Jumanji (1995)': 3.4167, 'Tom and Huck (1995)': 2.8333, 'Grumpier Old Men (1995)': 4.0, 'Waiting to Exhale (1995)': 2.5, 'Father of the Bride Part II (1995)': 4.0, 'Heat (1995)': 4.25, 'Sudden Death (1995)': 3.3333, 'GoldenEye (1995)': 3.0}\n"
     ]
    }
   ],
   "source": [
    "movie_to_avgRating = calculate_average_rating(movie_to_ratings)\n",
    "print(movie_to_avgRating)"
   ]
  },
  {
   "cell_type": "markdown",
   "id": "03022b09-909d-442f-aa94-eb4e6e81c661",
   "metadata": {},
   "source": [
    "**Task 3: Recommendation**"
   ]
  },
  {
   "cell_type": "code",
   "execution_count": 18,
   "id": "08265b6f-51bf-49eb-ab72-b887b3a336c7",
   "metadata": {},
   "outputs": [],
   "source": [
    "#1\n",
    "#input: movie to average ratings dictionary, n\n",
    "#output: dictionary of same structure but only with top n movies rating wise\n",
    "def get_popular_movies(movie_to_avg_rating, n=10):\n",
    "    \n",
    "    #gives a list sorted in descending order based on value\n",
    "    d = sorted(movie_to_avg_rating.items(), key = lambda x: x[1], reverse = True)\n",
    "    \n",
    "    if len(d) < n:\n",
    "        n = len(d)\n",
    "        \n",
    "    d_final = d[:n]\n",
    "    \n",
    "    #create a dictionary from this truncated list\n",
    "    \n",
    "    return dict(d_final)\n",
    "    "
   ]
  },
  {
   "cell_type": "code",
   "execution_count": 72,
   "id": "bb9ebb34-a4f7-427f-94c4-a7b6305ae61f",
   "metadata": {},
   "outputs": [
    {
     "name": "stdout",
     "output_type": "stream",
     "text": [
      "{'Heat (1995)': 4.25, 'Grumpier Old Men (1995)': 4.0, 'Father of the Bride Part II (1995)': 4.0}\n"
     ]
    }
   ],
   "source": [
    "print(get_popular_movies(movie_to_avgRating, 3))"
   ]
  },
  {
   "cell_type": "code",
   "execution_count": 20,
   "id": "4a1cb333-db4d-4793-81bf-7e7b97b36e8e",
   "metadata": {},
   "outputs": [],
   "source": [
    "#2\n",
    "#input: movie to average ratings dictionary, t\n",
    "#output: dictionary of the same form but only including those items with value >= t\n",
    "def filter_movies(movie_to_avg_rating, t=3):\n",
    "    \n",
    "    d = {}\n",
    "    for key, value in movie_to_avg_rating.items():\n",
    "        if value >= t:\n",
    "            d[key] = value\n",
    "            \n",
    "            \n",
    "    return d\n",
    "        "
   ]
  },
  {
   "cell_type": "code",
   "execution_count": 73,
   "id": "bbd59b95-40bf-4a56-98d8-d244e5aecc37",
   "metadata": {},
   "outputs": [
    {
     "name": "stdout",
     "output_type": "stream",
     "text": [
      "{'Toy Story (1995)': 3.8333, 'Jumanji (1995)': 3.4167, 'Tom and Huck (1995)': 2.8333, 'Grumpier Old Men (1995)': 4.0, 'Waiting to Exhale (1995)': 2.5, 'Father of the Bride Part II (1995)': 4.0, 'Heat (1995)': 4.25, 'Sudden Death (1995)': 3.3333, 'GoldenEye (1995)': 3.0}\n"
     ]
    }
   ],
   "source": [
    "print(filter_movies(movie_to_avgRating, 2))"
   ]
  },
  {
   "cell_type": "code",
   "execution_count": 22,
   "id": "efaeae5b-8334-4a57-868e-dfdadfb3db2d",
   "metadata": {},
   "outputs": [],
   "source": [
    "#3\n",
    "#input: genre, a genre-to-movies dictionary, a dictionary of movie:average rating, n \n",
    "#output: n most popular movies in that genre based on average ratings\n",
    "def get_popular_in_genre(genre, genre_to_movies, movie_to_avg, n=5):\n",
    "    \n",
    "    value = genre_to_movies[genre]\n",
    "    #value is the list of movies in this particular genre\n",
    "    \n",
    "    #create a list of tuples. tuple: (movie, avg rating) such that movie is in the value list\n",
    "    d = [(x,y) for x,y in movie_to_avg.items() if x in value]\n",
    "    \n",
    "    if len(d) < n:\n",
    "        n=len(d)\n",
    "        \n",
    "    d.sort(key = lambda x : x[1], reverse = True)\n",
    "    \n",
    "    d_final = d[:n]\n",
    "    \n",
    "    return dict(d_final)\n",
    "    "
   ]
  },
  {
   "cell_type": "code",
   "execution_count": 78,
   "id": "883a6702-3c7a-48f3-bd4f-67ce215d3066",
   "metadata": {},
   "outputs": [
    {
     "name": "stdout",
     "output_type": "stream",
     "text": [
      "{'Toy Story (1995)': 3.8333, 'Jumanji (1995)': 3.4167, 'Tom and Huck (1995)': 2.8333}\n"
     ]
    }
   ],
   "source": [
    "print(get_popular_in_genre(\"Adventure\", genre_to_movies, movie_to_avgRating))"
   ]
  },
  {
   "cell_type": "code",
   "execution_count": 79,
   "id": "73bdf249-43a8-42ad-9005-ba9137499778",
   "metadata": {},
   "outputs": [],
   "source": [
    "#4\n",
    "#input: genre, a genre-to-movies dictionary, a dictionary of movie:average rating\n",
    "#output: average rating of movies in the given genre\n",
    "def get_genre_rating(genre, genre_to_movies, movie_to_avg):\n",
    "    \n",
    "    value = genre_to_movies[genre]\n",
    "    #value is the list of movies in this particular genre\n",
    "    \n",
    "    sum = 0\n",
    "    count = len(value)\n",
    "    \n",
    "    for x,y in movie_to_avg.items():\n",
    "        if x in value:\n",
    "            sum+=y\n",
    "            \n",
    "    avg = sum/count\n",
    "    avg_s =  f'{avg:.4f}'\n",
    "    avg_f = float(avg_s)\n",
    "    \n",
    "    return avg_f\n",
    "        "
   ]
  },
  {
   "cell_type": "code",
   "execution_count": 80,
   "id": "e4ee95ef-18dd-4230-9c3a-ee862c2aeb59",
   "metadata": {},
   "outputs": [
    {
     "name": "stdout",
     "output_type": "stream",
     "text": [
      "3.3611\n"
     ]
    }
   ],
   "source": [
    "print(get_genre_rating(\"Adventure\", genre_to_movies, movie_to_avgRating))"
   ]
  },
  {
   "cell_type": "code",
   "execution_count": 81,
   "id": "03bd0f37-0907-4451-b308-40a77559363e",
   "metadata": {},
   "outputs": [
    {
     "name": "stdout",
     "output_type": "stream",
     "text": [
      "3.5278\n"
     ]
    }
   ],
   "source": [
    "print(get_genre_rating(\"Action\", genre_to_movies, movie_to_avgRating))"
   ]
  },
  {
   "cell_type": "code",
   "execution_count": 82,
   "id": "e4894e45-18df-4db2-83e8-16520605709e",
   "metadata": {},
   "outputs": [
    {
     "name": "stdout",
     "output_type": "stream",
     "text": [
      "3.5\n"
     ]
    }
   ],
   "source": [
    "print(get_genre_rating(\"Comedy\", genre_to_movies, movie_to_avgRating))"
   ]
  },
  {
   "cell_type": "code",
   "execution_count": 83,
   "id": "42e0c054-35fb-4613-8459-77499abcf211",
   "metadata": {},
   "outputs": [],
   "source": [
    "#5\n",
    "#input: genre_to_movies dictionary, movie_to_avgRating dictionary, n\n",
    "#output: top n rated genres as a dictionary of genre:average rating\n",
    "\n",
    "def genre_popularity(genre_to_movies, movie_to_avgRating, n=5):\n",
    "    \n",
    "    #list of tuples (genre, averageRating)\n",
    "    l = []\n",
    "    for x in genre_to_movies.keys():\n",
    "        avgRating = get_genre_rating(x, genre_to_movies, movie_to_avgRating)\n",
    "        l.append((x, avgRating))\n",
    "    \n",
    "    l.sort(key = lambda x: x[1], reverse = True)\n",
    "    \n",
    "    if len(l) < n:\n",
    "        n = len(l)\n",
    "        \n",
    "    return dict(l[0:n])\n",
    "        "
   ]
  },
  {
   "cell_type": "code",
   "execution_count": 84,
   "id": "8edb19d4-eda8-4277-8575-e893928f9594",
   "metadata": {},
   "outputs": [
    {
     "name": "stdout",
     "output_type": "stream",
     "text": [
      "{'Action': 3.5278, 'Comedy': 3.5, 'Adventure': 3.3611}\n"
     ]
    }
   ],
   "source": [
    "print(genre_popularity(genre_to_movies, movie_to_avgRating))"
   ]
  },
  {
   "cell_type": "code",
   "execution_count": 85,
   "id": "f12e6451-fd70-47d9-9139-485122355fc5",
   "metadata": {},
   "outputs": [
    {
     "name": "stdout",
     "output_type": "stream",
     "text": [
      "{'Action': 3.5278}\n"
     ]
    }
   ],
   "source": [
    "print(genre_popularity(genre_to_movies, movie_to_avgRating, 1))"
   ]
  },
  {
   "cell_type": "code",
   "execution_count": 86,
   "id": "c1d232c0-31b8-4c14-aaca-512edeef7df3",
   "metadata": {},
   "outputs": [
    {
     "name": "stdout",
     "output_type": "stream",
     "text": [
      "{'Action': 3.5278, 'Comedy': 3.5}\n"
     ]
    }
   ],
   "source": [
    "print(genre_popularity(genre_to_movies, movie_to_avgRating, 2))"
   ]
  },
  {
   "cell_type": "markdown",
   "id": "1213df71-816a-4348-b974-9f798a4318f9",
   "metadata": {},
   "source": [
    "**Task 4 (User Focused)**"
   ]
  },
  {
   "cell_type": "code",
   "execution_count": 87,
   "id": "baf69b7f-9289-42a5-bf9a-1509ff2e4551",
   "metadata": {},
   "outputs": [],
   "source": [
    "#1\n",
    "def read_user_ratings(ratings):\n",
    "    f = open(ratings)\n",
    "    \n",
    "    d = defaultdict(list)\n",
    "    \n",
    "    for line in f:\n",
    "        \n",
    "        movie, rating, uid = line.split('|')\n",
    "        d[uid.strip()].append((movie.strip(), float(rating.strip())))\n",
    "    \n",
    "    f.close()\n",
    "    return dict(d)"
   ]
  },
  {
   "cell_type": "code",
   "execution_count": 90,
   "id": "b6e120ec-b25e-4a84-9936-bae9e6097c1c",
   "metadata": {},
   "outputs": [
    {
     "name": "stdout",
     "output_type": "stream",
     "text": [
      "{'1': [('Toy Story (1995)', 4.0), ('Grumpier Old Men (1995)', 4.0), ('Heat (1995)', 4.0)], '5': [('Toy Story (1995)', 4.0)], '7': [('Toy Story (1995)', 4.5)], '15': [('Toy Story (1995)', 2.5)], '17': [('Toy Story (1995)', 4.5)], '18': [('Toy Story (1995)', 3.5), ('Jumanji (1995)', 3.0), ('Heat (1995)', 4.0)], '6': [('Jumanji (1995)', 4.0), ('Tom and Huck (1995)', 3.0), ('Grumpier Old Men (1995)', 5.0), ('Waiting to Exhale (1995)', 3.0), ('Father of the Bride Part II (1995)', 5.0), ('Heat (1995)', 4.0), ('GoldenEye (1995)', 3.0)], '8': [('Jumanji (1995)', 4.0), ('GoldenEye (1995)', 2.0)], '19': [('Jumanji (1995)', 3.0), ('Grumpier Old Men (1995)', 3.0), ('GoldenEye (1995)', 2.0)], '20': [('Jumanji (1995)', 3.0), ('Tom and Huck (1995)', 1.0)], '21': [('Jumanji (1995)', 3.5), ('GoldenEye (1995)', 5.0)], '43': [('Tom and Huck (1995)', 5.0), ('Grumpier Old Men (1995)', 5.0), ('Father of the Bride Part II (1995)', 5.0)], '274': [('Tom and Huck (1995)', 3.0)], '372': [('Tom and Huck (1995)', 2.0)], '414': [('Tom and Huck (1995)', 3.0)], '32': [('Grumpier Old Men (1995)', 3.0)], '42': [('Grumpier Old Men (1995)', 4.0)], '14': [('Waiting to Exhale (1995)', 3.0)], '84': [('Waiting to Exhale (1995)', 3.0)], '162': [('Waiting to Exhale (1995)', 3.0)], '262': [('Waiting to Exhale (1995)', 1.0)], '411': [('Waiting to Exhale (1995)', 2.0)], '31': [('Father of the Bride Part II (1995)', 3.0)], '45': [('Father of the Bride Part II (1995)', 3.0)], '58': [('Father of the Bride Part II (1995)', 4.0)], '66': [('Father of the Bride Part II (1995)', 4.0)], '11': [('Heat (1995)', 5.0), ('GoldenEye (1995)', 3.0)], '23': [('Heat (1995)', 4.0)], '24': [('Heat (1995)', 4.5)], '151': [('Sudden Death (1995)', 4.0)], '179': [('Sudden Death (1995)', 3.0)], '217': [('Sudden Death (1995)', 3.0)], '269': [('Sudden Death (1995)', 2.0)], '270': [('Sudden Death (1995)', 3.0)], '337': [('Sudden Death (1995)', 5.0)], '26': [('GoldenEye (1995)', 3.0)]}\n"
     ]
    }
   ],
   "source": [
    "user_to_rating = read_user_ratings('movieRatingSample.txt')\n",
    "print (user_to_rating)\n",
    "#read_user_ratings('movieRatingSample.txt')"
   ]
  },
  {
   "cell_type": "code",
   "execution_count": 109,
   "id": "e3ececd2-f46c-4b75-99e7-20de91c5db61",
   "metadata": {},
   "outputs": [],
   "source": [
    "#2\n",
    "#input: user id, the user-to-movies dictionary, and the movie-to-genre dictionary \n",
    "#output: top genre the user likes\n",
    "def get_user_genre(uid, user_to_movies, movie_to_genre):\n",
    "    \n",
    "    if uid not in user_to_movies.keys():\n",
    "        print('Error: User does not exist')\n",
    "        return\n",
    "    \n",
    "    \n",
    "    #creating a dictionary that is applicable to a particular user\n",
    "    #key: genre \n",
    "    #value: (total rating given, #of movies that this total applies to)\n",
    "    genre_ratings = {}\n",
    "    \n",
    "    value = user_to_movies[uid]\n",
    "    #value holds [(Movie, rating), ....]\n",
    "    \n",
    "  \n",
    "    #go through each item in value to finally create the dictionary\n",
    "    \n",
    "    for movie, rating in value:\n",
    "        genre = movie_to_genre[movie];\n",
    "        if genre in genre_ratings:\n",
    "            totalRating, numMovies = genre_ratings[genre]\n",
    "            genre_ratings[genre] = (totalRating + rating, numMovies + 1)\n",
    "        else:\n",
    "            genre_ratings[genre] = (rating,1)\n",
    "        \n",
    "    \n",
    "    \n",
    "    #creating a list of tuples. Each tuple: (genre, avgRating by uid)\n",
    "    \n",
    "    genre_ratings_list = []\n",
    "    \n",
    "    for genre, rating_stats in genre_ratings.items():\n",
    "        genre_ratings_list.append((genre, rating_stats[0]/rating_stats[1]))\n",
    "        \n",
    "    genre_ratings_list.sort(key = lambda x: x[1], reverse = True)\n",
    "    \n",
    "    \n",
    "    a,b = genre_ratings_list[0]\n",
    "    return a\n",
    "        \n",
    "    \n",
    "    "
   ]
  },
  {
   "cell_type": "code",
   "execution_count": 110,
   "id": "363261b5-64f8-4dd3-ac48-13c2857ac4a3",
   "metadata": {},
   "outputs": [
    {
     "name": "stdout",
     "output_type": "stream",
     "text": [
      "Adventure\n"
     ]
    }
   ],
   "source": [
    "print(get_user_genre('1', user_to_rating, movie_to_genre ))"
   ]
  },
  {
   "cell_type": "code",
   "execution_count": 111,
   "id": "5d4de3d3-36ed-4263-944b-7b9303e738e9",
   "metadata": {},
   "outputs": [
    {
     "name": "stdout",
     "output_type": "stream",
     "text": [
      "Action\n"
     ]
    }
   ],
   "source": [
    "print(get_user_genre('18', user_to_rating, movie_to_genre ))"
   ]
  },
  {
   "cell_type": "code",
   "execution_count": 112,
   "id": "7ea69ef6-2386-460f-8b46-bac98f6fab15",
   "metadata": {},
   "outputs": [
    {
     "name": "stdout",
     "output_type": "stream",
     "text": [
      "Comedy\n"
     ]
    }
   ],
   "source": [
    "print(get_user_genre('6', user_to_rating, movie_to_genre ))"
   ]
  },
  {
   "cell_type": "code",
   "execution_count": 113,
   "id": "9c092976-2c19-4176-85a5-ee522e9cb6e2",
   "metadata": {},
   "outputs": [
    {
     "name": "stdout",
     "output_type": "stream",
     "text": [
      "Error: User does not exist\n",
      "None\n"
     ]
    }
   ],
   "source": [
    "print(get_user_genre('0', user_to_rating, movie_to_genre ))"
   ]
  },
  {
   "cell_type": "code",
   "execution_count": 108,
   "id": "8dc01360-4421-4545-ac54-36d4c0dc5721",
   "metadata": {},
   "outputs": [],
   "source": [
    "#3\n",
    "#input: user id, user to movies dictionary, movie to genre dictionary, movie to avgRating dictionary\n",
    "#output: movie to average rating dictionary\n",
    "def recommend_movies1(uid, user_to_movies, movie_to_genre, movie_to_avgRating):\n",
    "    \n",
    "    if uid not in user_to_movies.keys():\n",
    "        print('Error: User does not exist')\n",
    "        return\n",
    "    \n",
    "    top_genre = get_user_genre(uid, user_to_movies, movie_to_genre)\n",
    "    \n",
    "    #[(movie, rating), .....]\n",
    "    movies_rated = user_to_movies[uid] \n",
    "    \n",
    "    #l1 is a list of all movies in this genre\n",
    "    l1 = [x for x,y in movie_to_genre.items() if y == top_genre]\n",
    "    \n",
    "    #l2 is a list of movies in this genre already rated by the user\n",
    "    l2 = [x for x,y in movies_rated if movie_to_genre[x] == top_genre]\n",
    "    \n",
    "    #remove values in l2 from l1\n",
    "    for l2element in l2:\n",
    "        l1.remove(l2element)\n",
    "        \n",
    "    #now l1 has all the movies of the top_genre that the user uid did not rate\n",
    "    \n",
    "    #creating l3 with tuples (movie in l1, avgRating of movie)\n",
    "    \n",
    "    l3 = [(x,movie_to_avgRating[x]) for x in l1]\n",
    "    \n",
    "    l4 = sorted(l3, key= lambda x: x[1], reverse = True)\n",
    "    \n",
    "    n = 3\n",
    "    \n",
    "    if len(l4) < 3:\n",
    "        n= len(l4)\n",
    "        \n",
    "    return dict(l4[:n])\n",
    "    \n",
    "    \n",
    "    "
   ]
  },
  {
   "cell_type": "code",
   "execution_count": 65,
   "id": "c3831ecd-e873-47c1-97c7-c6469841aa9f",
   "metadata": {},
   "outputs": [
    {
     "name": "stdout",
     "output_type": "stream",
     "text": [
      "{'Sudden Death (1995)': 3.33, 'GoldenEye (1995)': 3.0}\n"
     ]
    }
   ],
   "source": [
    "#print(recommend_movies('18', user_to_rating, movie_to_genre, movie_to_avgRating))"
   ]
  },
  {
   "cell_type": "code",
   "execution_count": 92,
   "id": "badcf114-b56c-4ab4-865f-e0ceeff22a97",
   "metadata": {},
   "outputs": [
    {
     "name": "stdout",
     "output_type": "stream",
     "text": [
      "{'Sudden Death (1995)': 3.3333}\n"
     ]
    }
   ],
   "source": [
    "#print(recommend_movies('6', user_to_rating, movie_to_genre, movie_to_avgRating))"
   ]
  },
  {
   "cell_type": "code",
   "execution_count": 119,
   "id": "ded16231-6f5e-4865-9c8e-6703783182d0",
   "metadata": {},
   "outputs": [],
   "source": [
    "def recommend_movies(uid, user_to_rating, movie_to_genre, movie_to_avgRating):\n",
    "    \n",
    "    if uid not in user_to_rating.keys():\n",
    "        print('Error: User does not exist')\n",
    "        return\n",
    "    \n",
    "    top_choice = get_user_genre(uid, user_to_rating, movie_to_genre)\n",
    "    \n",
    "    #all the movies in the genre\n",
    "    movies_in_genre = [x for x,y in movie_to_genre.items() if y == top_choice]\n",
    "    #all the movies that the user has watched\n",
    "    movies_watched = [m for m, r in user_to_rating[uid]]\n",
    "    \n",
    "    recommend = {}\n",
    "    for movie in movies_in_genre:\n",
    "        if movie not in movies_watched:\n",
    "            recommend[movie] = movie_to_avgRating[movie]\n",
    "\n",
    "    recommend = sorted(recommend.items(), key=lambda item: item[1], reverse = True)\n",
    "    \n",
    "    if len(recommend) <=3:\n",
    "        n = len(recommend)\n",
    "        \n",
    "    return dict(recommend[:n])"
   ]
  },
  {
   "cell_type": "code",
   "execution_count": 120,
   "id": "f771e4a0-c5d4-4974-a82b-0ac911f1e1e0",
   "metadata": {},
   "outputs": [
    {
     "name": "stdout",
     "output_type": "stream",
     "text": [
      "{'Sudden Death (1995)': 3.3333, 'GoldenEye (1995)': 3.0}\n"
     ]
    }
   ],
   "source": [
    "print(recommend_movies('18', user_to_rating, movie_to_genre, movie_to_avgRating))"
   ]
  },
  {
   "cell_type": "code",
   "execution_count": 121,
   "id": "16016e3e-71cf-4c99-90e3-5e9281a2df2b",
   "metadata": {},
   "outputs": [
    {
     "name": "stdout",
     "output_type": "stream",
     "text": [
      "{}\n"
     ]
    }
   ],
   "source": [
    "print(recommend_movies('6', user_to_rating, movie_to_genre, movie_to_avgRating))"
   ]
  },
  {
   "cell_type": "code",
   "execution_count": null,
   "id": "a913df1b-25c9-4610-8f18-88356e12514f",
   "metadata": {},
   "outputs": [],
   "source": []
  }
 ],
 "metadata": {
  "kernelspec": {
   "display_name": "Python 3",
   "language": "python",
   "name": "python3"
  },
  "language_info": {
   "codemirror_mode": {
    "name": "ipython",
    "version": 3
   },
   "file_extension": ".py",
   "mimetype": "text/x-python",
   "name": "python",
   "nbconvert_exporter": "python",
   "pygments_lexer": "ipython3",
   "version": "3.8.8"
  }
 },
 "nbformat": 4,
 "nbformat_minor": 5
}
